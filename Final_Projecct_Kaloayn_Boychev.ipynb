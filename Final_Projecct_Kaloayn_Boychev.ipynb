{
  "nbformat": 4,
  "nbformat_minor": 0,
  "metadata": {
    "colab": {
      "provenance": []
    },
    "kernelspec": {
      "name": "python3",
      "display_name": "Python 3"
    },
    "language_info": {
      "name": "python"
    }
  },
  "cells": [
    {
      "cell_type": "markdown",
      "source": [
        "# Final Project\n",
        "Kaloyan Boychev\n",
        "\n",
        "(discleimer: parts of the final project have been insipered by an old project of mine in a previous course namely (Text Retrival nad Mining). The main parts insiper are idea for the data and the preproccessed spacy docs file which is use for speed pourposes)"
      ],
      "metadata": {
        "id": "L-GqBEMz3uWJ"
      }
    },
    {
      "cell_type": "markdown",
      "source": [
        "# The data\n",
        "This is a reusable publicly-available dataset for “media bias” studies. The content of this dataset is publish date, title, subtitle and text for 3824 news articles. These articles are collected by a project within 3 months from December of 2016 to march 2017. The source of these news articles are from ABC News, CNN news, The Huffington Post, BBC News, DW News, TASS News, Al Jazeera News, China Daily and RTE News. All of them are collected by using RSS feeds of each news sites"
      ],
      "metadata": {
        "id": "DsRAx4g_qt2d"
      }
    },
    {
      "cell_type": "code",
      "execution_count": 40,
      "metadata": {
        "id": "Whh1pHdY3PZX"
      },
      "outputs": [],
      "source": [
        "import pandas as pd\n",
        "import requests\n",
        "import spacy\n",
        "from spacy.tokens import DocBin"
      ]
    },
    {
      "cell_type": "code",
      "source": [
        "r = requests.get(\"https://dataverse.harvard.edu/api/access/datafile/:persistentId?persistentId=doi:10.7910/DVN/GMFCTR/IZQODZ\")\n",
        "assert r.status_code == 200\n",
        "with open(\"NewsArticles.csv\", \"wb\") as out:\n",
        "    out.write(r.content)\n"
      ],
      "metadata": {
        "id": "WDEvZj9w3zgw"
      },
      "execution_count": 41,
      "outputs": []
    },
    {
      "cell_type": "code",
      "source": [
        "dataframe = pd.read_csv('NewsArticles.csv', encoding='latin1')\n",
        "df = dataframe[['publish_date', 'text']].copy().dropna().reset_index(drop=True)\n",
        "df[\"publish_date\"] = df[\"publish_date\"].str.strip()\n",
        "\n",
        "# Attempt to convert and flag problematic rows\n",
        "df[\"valid_date\"] = pd.to_datetime(df[\"publish_date\"], errors='coerce')\n",
        "\n",
        "# Replace problematic rows with the value from the previous row\n",
        "df[\"publish_date\"] = df[\"publish_date\"].where(df[\"valid_date\"].notna(), None)\n",
        "df[\"publish_date\"] = df[\"publish_date\"].fillna(method='ffill')  # Forward-fill problematic rows\n",
        "\n",
        "# Drop the helper column\n",
        "df = df.drop(columns=[\"valid_date\"])\n",
        "\n",
        "# Convert the publish_date column after replacing problematic values\n",
        "df[\"publish_date\"] = pd.to_datetime(df[\"publish_date\"])\n"
      ],
      "metadata": {
        "colab": {
          "base_uri": "https://localhost:8080/"
        },
        "id": "0FuFQ1hd6rS8",
        "outputId": "b2fa4940-7c8c-4b88-9b1d-25a6ae3008fd"
      },
      "execution_count": 42,
      "outputs": [
        {
          "output_type": "stream",
          "name": "stderr",
          "text": [
            "<ipython-input-42-3cb0550ab696>:10: FutureWarning: Series.fillna with 'method' is deprecated and will raise in a future version. Use obj.ffill() or obj.bfill() instead.\n",
            "  df[\"publish_date\"] = df[\"publish_date\"].fillna(method='ffill')  # Forward-fill problematic rows\n"
          ]
        }
      ]
    },
    {
      "cell_type": "code",
      "source": [
        "### We begin with quick EDA of the data:\n",
        "print(\"Shape of the data\")\n",
        "print(df.shape)\n",
        "\n",
        "print(\"Data\")\n",
        "print(df.head())\n"
      ],
      "metadata": {
        "colab": {
          "base_uri": "https://localhost:8080/"
        },
        "id": "sDsMThYKDps5",
        "outputId": "e609254b-6a45-427f-ca8c-bdba95c65c63"
      },
      "execution_count": 43,
      "outputs": [
        {
          "output_type": "stream",
          "name": "stdout",
          "text": [
            "Shape of the data\n",
            "(3791, 2)\n",
            "Data\n",
            "  publish_date                                               text\n",
            "0   2017-02-07  Michigan billionaire education activist Betsy ...\n",
            "1   2017-02-07  First lady Melania Trump has said little about...\n",
            "2   2017-02-07  A House committee voted on Tuesday to eliminat...\n",
            "3   2017-02-07  This afternoon, three federal judges from the ...\n",
            "4   2017-02-07  At least four tornadoes touched down in Louisi...\n"
          ]
        }
      ]
    },
    {
      "cell_type": "code",
      "source": [
        "import spacy\n",
        "from spacy.tokens import DocBin\n",
        "\n",
        "r = requests.get(\"https://surfdrive.surf.nl/files/index.php/s/dMG8AbWWcUpiq4a/download\")\n",
        "assert r.status_code == 200\n",
        "with open(\"docs.spacy\", \"wb\") as out:\n",
        "    out.write(r.content)\n",
        "\n",
        "en = spacy.load(\"en_core_web_sm\")\n",
        "doc_bin = DocBin().from_disk(\"docs.spacy\")\n",
        "df[\"spacy_doc\"] = list(doc_bin.get_docs(vocab=en.vocab))\n"
      ],
      "metadata": {
        "id": "O40Thg7R8hmJ"
      },
      "execution_count": 44,
      "outputs": []
    },
    {
      "cell_type": "code",
      "source": [
        "df.head()"
      ],
      "metadata": {
        "colab": {
          "base_uri": "https://localhost:8080/",
          "height": 206
        },
        "id": "e0w4wuSg_rSJ",
        "outputId": "a94ee93b-0db5-41aa-b85c-a6113e68de44"
      },
      "execution_count": 45,
      "outputs": [
        {
          "output_type": "execute_result",
          "data": {
            "text/plain": [
              "  publish_date                                               text  \\\n",
              "0   2017-02-07  Michigan billionaire education activist Betsy ...   \n",
              "1   2017-02-07  First lady Melania Trump has said little about...   \n",
              "2   2017-02-07  A House committee voted on Tuesday to eliminat...   \n",
              "3   2017-02-07  This afternoon, three federal judges from the ...   \n",
              "4   2017-02-07  At least four tornadoes touched down in Louisi...   \n",
              "\n",
              "                                           spacy_doc  \n",
              "0  (Michigan, billionaire, education, activist, B...  \n",
              "1  (First, lady, Melania, Trump, has, said, littl...  \n",
              "2  (A, House, committee, voted, on, Tuesday, to, ...  \n",
              "3  (This, afternoon, ,, three, federal, judges, f...  \n",
              "4  (At, least, four, tornadoes, touched, down, in...  "
            ],
            "text/html": [
              "\n",
              "  <div id=\"df-33d5decd-ff18-4fe0-a343-3432684c87dc\" class=\"colab-df-container\">\n",
              "    <div>\n",
              "<style scoped>\n",
              "    .dataframe tbody tr th:only-of-type {\n",
              "        vertical-align: middle;\n",
              "    }\n",
              "\n",
              "    .dataframe tbody tr th {\n",
              "        vertical-align: top;\n",
              "    }\n",
              "\n",
              "    .dataframe thead th {\n",
              "        text-align: right;\n",
              "    }\n",
              "</style>\n",
              "<table border=\"1\" class=\"dataframe\">\n",
              "  <thead>\n",
              "    <tr style=\"text-align: right;\">\n",
              "      <th></th>\n",
              "      <th>publish_date</th>\n",
              "      <th>text</th>\n",
              "      <th>spacy_doc</th>\n",
              "    </tr>\n",
              "  </thead>\n",
              "  <tbody>\n",
              "    <tr>\n",
              "      <th>0</th>\n",
              "      <td>2017-02-07</td>\n",
              "      <td>Michigan billionaire education activist Betsy ...</td>\n",
              "      <td>(Michigan, billionaire, education, activist, B...</td>\n",
              "    </tr>\n",
              "    <tr>\n",
              "      <th>1</th>\n",
              "      <td>2017-02-07</td>\n",
              "      <td>First lady Melania Trump has said little about...</td>\n",
              "      <td>(First, lady, Melania, Trump, has, said, littl...</td>\n",
              "    </tr>\n",
              "    <tr>\n",
              "      <th>2</th>\n",
              "      <td>2017-02-07</td>\n",
              "      <td>A House committee voted on Tuesday to eliminat...</td>\n",
              "      <td>(A, House, committee, voted, on, Tuesday, to, ...</td>\n",
              "    </tr>\n",
              "    <tr>\n",
              "      <th>3</th>\n",
              "      <td>2017-02-07</td>\n",
              "      <td>This afternoon, three federal judges from the ...</td>\n",
              "      <td>(This, afternoon, ,, three, federal, judges, f...</td>\n",
              "    </tr>\n",
              "    <tr>\n",
              "      <th>4</th>\n",
              "      <td>2017-02-07</td>\n",
              "      <td>At least four tornadoes touched down in Louisi...</td>\n",
              "      <td>(At, least, four, tornadoes, touched, down, in...</td>\n",
              "    </tr>\n",
              "  </tbody>\n",
              "</table>\n",
              "</div>\n",
              "    <div class=\"colab-df-buttons\">\n",
              "\n",
              "  <div class=\"colab-df-container\">\n",
              "    <button class=\"colab-df-convert\" onclick=\"convertToInteractive('df-33d5decd-ff18-4fe0-a343-3432684c87dc')\"\n",
              "            title=\"Convert this dataframe to an interactive table.\"\n",
              "            style=\"display:none;\">\n",
              "\n",
              "  <svg xmlns=\"http://www.w3.org/2000/svg\" height=\"24px\" viewBox=\"0 -960 960 960\">\n",
              "    <path d=\"M120-120v-720h720v720H120Zm60-500h600v-160H180v160Zm220 220h160v-160H400v160Zm0 220h160v-160H400v160ZM180-400h160v-160H180v160Zm440 0h160v-160H620v160ZM180-180h160v-160H180v160Zm440 0h160v-160H620v160Z\"/>\n",
              "  </svg>\n",
              "    </button>\n",
              "\n",
              "  <style>\n",
              "    .colab-df-container {\n",
              "      display:flex;\n",
              "      gap: 12px;\n",
              "    }\n",
              "\n",
              "    .colab-df-convert {\n",
              "      background-color: #E8F0FE;\n",
              "      border: none;\n",
              "      border-radius: 50%;\n",
              "      cursor: pointer;\n",
              "      display: none;\n",
              "      fill: #1967D2;\n",
              "      height: 32px;\n",
              "      padding: 0 0 0 0;\n",
              "      width: 32px;\n",
              "    }\n",
              "\n",
              "    .colab-df-convert:hover {\n",
              "      background-color: #E2EBFA;\n",
              "      box-shadow: 0px 1px 2px rgba(60, 64, 67, 0.3), 0px 1px 3px 1px rgba(60, 64, 67, 0.15);\n",
              "      fill: #174EA6;\n",
              "    }\n",
              "\n",
              "    .colab-df-buttons div {\n",
              "      margin-bottom: 4px;\n",
              "    }\n",
              "\n",
              "    [theme=dark] .colab-df-convert {\n",
              "      background-color: #3B4455;\n",
              "      fill: #D2E3FC;\n",
              "    }\n",
              "\n",
              "    [theme=dark] .colab-df-convert:hover {\n",
              "      background-color: #434B5C;\n",
              "      box-shadow: 0px 1px 3px 1px rgba(0, 0, 0, 0.15);\n",
              "      filter: drop-shadow(0px 1px 2px rgba(0, 0, 0, 0.3));\n",
              "      fill: #FFFFFF;\n",
              "    }\n",
              "  </style>\n",
              "\n",
              "    <script>\n",
              "      const buttonEl =\n",
              "        document.querySelector('#df-33d5decd-ff18-4fe0-a343-3432684c87dc button.colab-df-convert');\n",
              "      buttonEl.style.display =\n",
              "        google.colab.kernel.accessAllowed ? 'block' : 'none';\n",
              "\n",
              "      async function convertToInteractive(key) {\n",
              "        const element = document.querySelector('#df-33d5decd-ff18-4fe0-a343-3432684c87dc');\n",
              "        const dataTable =\n",
              "          await google.colab.kernel.invokeFunction('convertToInteractive',\n",
              "                                                    [key], {});\n",
              "        if (!dataTable) return;\n",
              "\n",
              "        const docLinkHtml = 'Like what you see? Visit the ' +\n",
              "          '<a target=\"_blank\" href=https://colab.research.google.com/notebooks/data_table.ipynb>data table notebook</a>'\n",
              "          + ' to learn more about interactive tables.';\n",
              "        element.innerHTML = '';\n",
              "        dataTable['output_type'] = 'display_data';\n",
              "        await google.colab.output.renderOutput(dataTable, element);\n",
              "        const docLink = document.createElement('div');\n",
              "        docLink.innerHTML = docLinkHtml;\n",
              "        element.appendChild(docLink);\n",
              "      }\n",
              "    </script>\n",
              "  </div>\n",
              "\n",
              "\n",
              "<div id=\"df-2f14994f-c11e-46ad-9254-1c310e1bf2de\">\n",
              "  <button class=\"colab-df-quickchart\" onclick=\"quickchart('df-2f14994f-c11e-46ad-9254-1c310e1bf2de')\"\n",
              "            title=\"Suggest charts\"\n",
              "            style=\"display:none;\">\n",
              "\n",
              "<svg xmlns=\"http://www.w3.org/2000/svg\" height=\"24px\"viewBox=\"0 0 24 24\"\n",
              "     width=\"24px\">\n",
              "    <g>\n",
              "        <path d=\"M19 3H5c-1.1 0-2 .9-2 2v14c0 1.1.9 2 2 2h14c1.1 0 2-.9 2-2V5c0-1.1-.9-2-2-2zM9 17H7v-7h2v7zm4 0h-2V7h2v10zm4 0h-2v-4h2v4z\"/>\n",
              "    </g>\n",
              "</svg>\n",
              "  </button>\n",
              "\n",
              "<style>\n",
              "  .colab-df-quickchart {\n",
              "      --bg-color: #E8F0FE;\n",
              "      --fill-color: #1967D2;\n",
              "      --hover-bg-color: #E2EBFA;\n",
              "      --hover-fill-color: #174EA6;\n",
              "      --disabled-fill-color: #AAA;\n",
              "      --disabled-bg-color: #DDD;\n",
              "  }\n",
              "\n",
              "  [theme=dark] .colab-df-quickchart {\n",
              "      --bg-color: #3B4455;\n",
              "      --fill-color: #D2E3FC;\n",
              "      --hover-bg-color: #434B5C;\n",
              "      --hover-fill-color: #FFFFFF;\n",
              "      --disabled-bg-color: #3B4455;\n",
              "      --disabled-fill-color: #666;\n",
              "  }\n",
              "\n",
              "  .colab-df-quickchart {\n",
              "    background-color: var(--bg-color);\n",
              "    border: none;\n",
              "    border-radius: 50%;\n",
              "    cursor: pointer;\n",
              "    display: none;\n",
              "    fill: var(--fill-color);\n",
              "    height: 32px;\n",
              "    padding: 0;\n",
              "    width: 32px;\n",
              "  }\n",
              "\n",
              "  .colab-df-quickchart:hover {\n",
              "    background-color: var(--hover-bg-color);\n",
              "    box-shadow: 0 1px 2px rgba(60, 64, 67, 0.3), 0 1px 3px 1px rgba(60, 64, 67, 0.15);\n",
              "    fill: var(--button-hover-fill-color);\n",
              "  }\n",
              "\n",
              "  .colab-df-quickchart-complete:disabled,\n",
              "  .colab-df-quickchart-complete:disabled:hover {\n",
              "    background-color: var(--disabled-bg-color);\n",
              "    fill: var(--disabled-fill-color);\n",
              "    box-shadow: none;\n",
              "  }\n",
              "\n",
              "  .colab-df-spinner {\n",
              "    border: 2px solid var(--fill-color);\n",
              "    border-color: transparent;\n",
              "    border-bottom-color: var(--fill-color);\n",
              "    animation:\n",
              "      spin 1s steps(1) infinite;\n",
              "  }\n",
              "\n",
              "  @keyframes spin {\n",
              "    0% {\n",
              "      border-color: transparent;\n",
              "      border-bottom-color: var(--fill-color);\n",
              "      border-left-color: var(--fill-color);\n",
              "    }\n",
              "    20% {\n",
              "      border-color: transparent;\n",
              "      border-left-color: var(--fill-color);\n",
              "      border-top-color: var(--fill-color);\n",
              "    }\n",
              "    30% {\n",
              "      border-color: transparent;\n",
              "      border-left-color: var(--fill-color);\n",
              "      border-top-color: var(--fill-color);\n",
              "      border-right-color: var(--fill-color);\n",
              "    }\n",
              "    40% {\n",
              "      border-color: transparent;\n",
              "      border-right-color: var(--fill-color);\n",
              "      border-top-color: var(--fill-color);\n",
              "    }\n",
              "    60% {\n",
              "      border-color: transparent;\n",
              "      border-right-color: var(--fill-color);\n",
              "    }\n",
              "    80% {\n",
              "      border-color: transparent;\n",
              "      border-right-color: var(--fill-color);\n",
              "      border-bottom-color: var(--fill-color);\n",
              "    }\n",
              "    90% {\n",
              "      border-color: transparent;\n",
              "      border-bottom-color: var(--fill-color);\n",
              "    }\n",
              "  }\n",
              "</style>\n",
              "\n",
              "  <script>\n",
              "    async function quickchart(key) {\n",
              "      const quickchartButtonEl =\n",
              "        document.querySelector('#' + key + ' button');\n",
              "      quickchartButtonEl.disabled = true;  // To prevent multiple clicks.\n",
              "      quickchartButtonEl.classList.add('colab-df-spinner');\n",
              "      try {\n",
              "        const charts = await google.colab.kernel.invokeFunction(\n",
              "            'suggestCharts', [key], {});\n",
              "      } catch (error) {\n",
              "        console.error('Error during call to suggestCharts:', error);\n",
              "      }\n",
              "      quickchartButtonEl.classList.remove('colab-df-spinner');\n",
              "      quickchartButtonEl.classList.add('colab-df-quickchart-complete');\n",
              "    }\n",
              "    (() => {\n",
              "      let quickchartButtonEl =\n",
              "        document.querySelector('#df-2f14994f-c11e-46ad-9254-1c310e1bf2de button');\n",
              "      quickchartButtonEl.style.display =\n",
              "        google.colab.kernel.accessAllowed ? 'block' : 'none';\n",
              "    })();\n",
              "  </script>\n",
              "</div>\n",
              "\n",
              "    </div>\n",
              "  </div>\n"
            ],
            "application/vnd.google.colaboratory.intrinsic+json": {
              "type": "dataframe",
              "variable_name": "df",
              "summary": "{\n  \"name\": \"df\",\n  \"rows\": 3791,\n  \"fields\": [\n    {\n      \"column\": \"publish_date\",\n      \"properties\": {\n        \"dtype\": \"date\",\n        \"min\": \"2016-04-19 00:00:00\",\n        \"max\": \"2017-03-30 00:00:00\",\n        \"num_unique_values\": 57,\n        \"samples\": [\n          \"2017-02-07 00:00:00\",\n          \"2016-04-19 00:00:00\",\n          \"2017-02-22 00:00:00\"\n        ],\n        \"semantic_type\": \"\",\n        \"description\": \"\"\n      }\n    },\n    {\n      \"column\": \"text\",\n      \"properties\": {\n        \"dtype\": \"string\",\n        \"num_unique_values\": 3784,\n        \"samples\": [\n          \"Taliban fighters in southern Afghanistan attacked a checkpoint with firearms and hand grenades, killing 11 policemen and confiscating weapons and ammunition. But a provincial official said Tuesday's attack in Helmand province's capital Lashkar Gah could be an \\\"insider attack\\\" as one of the guards was still missing. \\\"An investigation is ongoing to find out if someone from inside has defected to the Taliban and paved the way for this crime,\\\" he said. Taliban spokesman Zabihullah Mujahid-told Al Jazeera the group was responsible for the attack, saying it killed 11 policemen and \\\"claimed the area and weapons\\\". Din Mohammad, a doctor at the Lashkar Gah Hospital, confirmed the death toll.- In a separate incident, another 12 policemen were killed in Marjah district of Helmand after an hour-long gun battle, Mujahid said. READ MORE: Chaos follows Pakistan-Afghanistan border closure The attacks underlined the threat facing Afghan security forces in the opium-producing province, where they struggle to match well-equipped Taliban fighters who now control most of Helmand, including areas in Lashkar Gah. Earlier this month, an Afghan policeman turned his rifle on his colleagues in northern Faryab province, killing eight policemen as they slept in an outpost in the district of Almar. He then collected all their firearms and fled the scene. British and US forces suffered their heaviest casualties of the war in the province in years of fighting following the removal of the Taliban in 2001. Afghan security forces now control less than 60 percent of the country, according to US estimates, with the Taliban holding about 10 percent and the remainder contested between various armed groups. Source:-Al Jazeera and news agencies\",\n          \"WASHINGTON \\\"?The chairman of the House Intelligence Committee on Sunday announced that evidence provided by President Donald Trump's administration does not prove his unsubstantiated claim that his predecessor Barack Obama ordered wiretapping on Trump Tower during last year's campaign. \\\"Was there a physical wiretap of Trump Tower? No, there never was,\\\"?Rep. Devin Nunes (R-Calif.) said on \\\"Fox News Sunday.\\\"?\\\"the information we got on Friday continues to lead us in that direction.\\\"he DOJ was originally asked to turn over the information on Monday, but that afternoon,-asked for an extension. Nunes also said that \\\"where was no warrant that I'm aware of\\\"?authorizing any wiretapping of Trump Tower, confirming what top intelligence officials under Obama have also determined. Trump and his staff continue to defend the allegation, even after both the House and Senate Intelligence Committees found last week that they have no evidence to suggest any sort of activity. Trump on Friday continued to suggest that his claim was true, awkwardly joking about it-during a joint press conference with German Chancellor Angela Merkel. On Monday, the House Intelligence Committee will hold a hearing, which will include testimony from FBI director James Comey. Earlier this month, Comey reportedly told the Justice Department to publicly refute the claim, and the committee's ranking member Rep. Adam Schiff (D-Calif.) said last week that he expects-Comey will debunk the claim-at Monday's hearing. Schiff also confirmed on Sunday that the DOJ's documents did not support Trump's claim. \\\"I got a classified briefing on their response. They delivered it after most of us had left town. But once again, no evidence to support the president's claim that he was wiretapped by his predecessor,\\\"?he said on NBC's \\\"Teet the Press.\\\"?Yet several top Republicans still believe a congressional probe is necessary. Sen. Tom Cotton (R-Ark.), a member of the Senate Intelligence Committee,-said on Sunday that the committee \\\"will be taking them seriously\\\"?at its own hearing later this month. When asked if there was any evidence backing up Trump's claim, Cotton said:-\\\"not that I\\\"ve seen, and not that I'm aware of,\\\"?on CNN's \\\"state of the Union.\\\"?\\\"But as with all the other claims related to this matter, the Senate Intelligence Committee will be taking them seriously and approaching it in a deliberative fashion to review not only documents from the past year but also taking testimony of several witnesses.\\\"?House Speaker Paul Ryan (R-Wis.) said on \\\"Fox News Sunday\\\"?that while he also has not seen evidence of the wiretap claim, \\\"we will investigate each and every one of these things.\\\"?And Sen. Susan Collins (R-Maine) implored Trump to \\\"explain to us on the Intelligence Committee and to the American people,\\\"?telling NBC's \\\"Teet the Press\\\"?that she hopes to \\\"get to the bottom of this.\\\"?Responding to Collins, Schiff said that \\\"where is nothing at the bottom.\\\"?\\\"I have a lot of respect for Susan Collins, but I have to differ with her on this. She said we need to \\\"\\u0098get to the bottom of this.\\\"?We are at the bottom of this,\\\"?Schiff said. \\\"there is nothing at the bottom.\\\"?This article has been updated with comments from Schiff and Collins. Do you have information you want to share with the Huffington Post? Here's how. Share this slide: How will Trump's first 100 days impact you? Learn more\",\n          \"New rules have come into force which could dramatically reduce the ability of individuals and non-governmental organisations to bring legal challenges to protect the environment. The government is scrapping automatic \\\"cost caps\\\" which limit the costs of losing a case in England and Wales. Opponents claim the changes will make it \\\"impossible\\\" to \\\"hold the government to account\\\". But the government says people will not be expected to pay above their means. The caps currently stand at ?5,000 for an individual and ?10,000 for an organisation. The normal \\\"loser pays rule\\\" means that successful claimants can claim their legal costs back from the defendant. But if they lose, they have to pay both their own legal costs, and those of the winning side. Under the changes, any person or organisation wanting to bring a judicial review in environmental cases will not automatically receive the protection of a '\\\"cost cap\\\" if they lose. That could mean individuals having to sell a house. ClientEarth, Friends of the Earth and the RSPB are challenging the rule change in the courts, arguing those bringing such cases would be exposed to huge and uncertain financial risk. The \\\"cost caps\\\" came in in 2013 in part due to the international Aarhus Convention, which was ratified by the government in 2005. It requires contracting parties to ensure that legal action to protect the environment is \\\"fair, equitable, timely and not prohibitively expensive\\\". This recognises that the environment cannot protect itself and that there is a public interest in people and groups bringing legal actions to protect it. Before the caps, the cost of bringing cases could be huge. In one, concerning the construction of a funicular railway up Cairngorm Mountain in Scotland, WWF was ordered to pay the government's legal costs of over ?200,000 on losing. In another, local resident Lilian Pallikaropoulos faced a costs bill of just under ?90,000 after losing her challenge against the legality of a large cement works near her home in Rugby, Warwickshire. Under the new rules, the court can look at the financial resources of a claimant and discard the automatic cost cap. This could involve an assessment of how much their house is worth and whether they should be forced to sell it if they lose. It is estimated that some 40,000 people in the UK die prematurely each year because of air pollution. The group ClientEarth has brought successful legal challenges against the government's failure to meet EU targets on air pollution. Its chief executive James Thornton said: \\\"By removing cost caps and allowing personal finances to be publicly examined, it creates a huge deterrent for those who would use law to defend people's health and the natural world. \\\"With unlimited legal costs, it will be virtually impossible to bring a public interest case and hold the government to account. \\\"This is especially true after a hard Brexit - which looks increasingly likely - when the EU won't be able to punish UK law breaking.\\\" Campaigners say the UK's public interest cost rules are already more punitive than the US, China, and any other country in the EU. They claim environmental public interest cases made up less than 1% of all judicial reviews from 2013 to 2015, and that they achieve twelve times the success rate of other judicial reviews. A Ministry of Justice spokesman said: \\\"The cost of bringing environmental challenges must not be prohibitively expensive and our changes will ensure that individuals are not expected to pay legal costs above their means. Legal aid remains available for these cases\\\". But last week, a House of Lords committee concluded that \\\"people with a genuine complaint will be discouraged from pursuing it in the courts\\\".\"\n        ],\n        \"semantic_type\": \"\",\n        \"description\": \"\"\n      }\n    },\n    {\n      \"column\": \"spacy_doc\",\n      \"properties\": {\n        \"dtype\": \"string\",\n        \"num_unique_values\": 3791,\n        \"samples\": [\n          \"The Russian parliament has ordered a check of U.S. media outlets operating in the country, in retaliation for what it said was an attack on Russian media in the United States. The parliament's lower house, the State Duma, called for its information and telecoms committee to examine whether the activity of CNN, Voice of America, Radio Free Europe, and other U.S. outlets is \\\"in accordance with Russian legislation,\\\" a press release published on the body's website read. The announcement didn't specify which other outlets could be targeted. Voice of America is a federal government broadcaster, while Radio Free Europe/Radio Liberty is a private non-profit, funded by a Congressional grant. Both were set up to combat Soviet propaganda during the Cold War. The lawmaker who instigated the order, Konstantin Zatulin, from the country's ruling party, United Russia, said the check was a response to calls from American politicians for a probe into Russian state outlets accused of interfering in the U.S. presidential elections, in particular the Kremlin-funded broadcaster, RT. Zatulin pointed specifically to Sen. Jeanne Shaheen, D-New Hampshire, who this week introduced a bill to Congress that would grant the Department of Justice new authority to investigate RT, for possible violations of the Foreign Agents Registration Act. RT, previously known as Russia Today, is Russia's main international broadcaster and has been accused of being at the center of Kremlin propaganda efforts in the U.S. and Europe. A declassified U.S. intelligence report on Russian efforts to influence the U.S. presidential election released in December described RT as playing a key role in a disinformation campaign meant to harm Democratic candidate Hillary Clinton and to sow doubts about the election's fairness. During the elections, RT focused heavily on negative stories around Clinton, often pushing reports that had been repeatedly discredited. \\\"We have good reason to believe that RT News is coordinating with the Russian government to spread misinformation and undermine our democratic process,\\\" Shaheen said in a statement unveiling the bill. The Foreign Agents Registrations Act that Shaheen suggested RT may be violating requires individuals or entities hired to act in a \\\"political or quasi-political capacity\\\" on behalf of foreign governments to register. The Kremlin makes no attempt to conceal that RT's funding is from Russia's state budget, which is published openly, but RT argues it is not directly funded because the money come through a separate company. \\\"RT News has made public statements boasting that it can dodge our laws with shell corporations, and it's time for the Department of Justice to investigate,\\\" Shaheen said.- Zatulin, the Russian lawmaker, called the move \\\"repressive.\\\" Russia's foreign ministry has accused the U.S. of succumbing to anti-Russian hysteria, resembling the McCarthy era. \\\"Times are being reborn in the U.S. when Donald Duck and Mickey Mouse are considered agents of the Kremlin,\\\" Zatulin said. The U.S. intelligence report was criticized by many U.S. observers for disproportionately focusing on RT: The largest part of the report was taken up with an annex describing the broadcaster's work. RT's actual influence in the U.S. is debatable. An RT spokesperson claimed to the Washington Post in January, the channel had 8 million viewers weekly in America. But documents allegedly leaked from Russia's state-media holding, Ria Novosti, said RT's daily programming in 2015 did not get more than 30,000 viewers. RT is not in the top 100 cable networks.\",\n          \"PARIS, March 14. /TASS/. The Romanov family would like Crown Prince Alexei and Grand Duchess Maria, the children of the last Russian Emperor Nicholas II, to be honorably buried at the cathedral in St. Petersburg's Peter and Paul Fortress, alongside their parents and sisters, said Prince Rostislav Rostislavovich, the great-grandson of the emperor's sister, Ksenya.   In an interview with TASS on the occasion of the centennial of the last Russian czar's abdication (March 15, 1917), Prince Rostislav noted that \\\"in different countries, monarchies came to an end in different ways, but in Russia the end was particularly tragic.\\\" \\\"The shock that it caused made all of Russia suffer,\\\" he emphasized. After the February 1917 revolution, Nicholas II was sent into exile and was eventually executed in the city of Yekaterinburg together with his family. According to Prince Rostislav, the UK \\\"could not foresee the consequences\\\" when it refused to provide refuge to the Russian emperor. He added that Nicholas II \\\"would have never left Russia.\\\" However, a number of the emperor's relatives managed to avoid execution and moved to other countries to start a new life there. \\\"But they were not able to return to their homeland and were forced to remain abroad all their lives,\\\" the prince stressed.  Life of last Russian royal family in pictures  The Romanov family descendants consider it their Christian duty to ensure the burial of the emperor's children, whose remains were found near Yekaterinburg in 2007, thus paying tribute to the late head of the family, Prince Dimitry Romanovich, who died on December 31, 2016. \\\"He believed that the emperor's children should be laid to rest alongside their parents and sisters,\\\" the young member of the family said. \\\"Dimitry Romanovich hoped that this tragic page in Russia's history would be turned during his lifetime.\\\" Prince Rostislav Romanov, 31, is an artist by profession. He is a member of the Romanov family branch descending from Mikhail (1832-1909), brother of Emperor Nicholas I, a field marshal and a Caucasus governor.\",\n          \"DW: Mr. Bozkurt, your party colleague and Social Democrats (SPD) boss Thomas Oppermann wants refugees who are pulled out of the Mediterranean-returned to North Africa as a way of stopping trafficking. What is wrong with this plan? Aziz Bozkurt: This is, at the very least, legally questionable. It is a fundamental principal of international law not to send back those whose lives and freedom are in danger. Under international law, you can't pull people out of the Mediterranean and then return them to unstable countries. What Oppermann is suggesting is neither realistic nor doable, same as other Social Democrats have said. It has been suggested before and, like spoiled milk, the idea does not get better with time. Oppermann said that refugees should receive \\\"initial care in North Africa.\\\" That sounds like asylum requests can be reviewed there. It is fine to find legal paths. However, we have to see which countries we're dealing with. Libya, for example, is more than unstable, as Foreign Minister [Sigmar] Gabriel said again today. Then there are countries like Morocco or Tunisia. Conditions there are basic, yet even there we cannot guarantee legal procedures will be carried out to our standards. Interior Minister Thomas de Maiziere plans to establish a reception center in Tunisia. What is wrong with checking asylum cases there? The SPD's Aziz Bozkurt It's that those people are in large part already in European waters, making Europe responsible for the secure and legal handling of asylum procedures. This is also an attempt to push these people out of sight - out of sight, out of mind. That is unacceptable. Asylum cases should be processed here, when the situation calls for it. We cannot avoid the problem. Is closer cooperation with North African countries for you the wrong way to better control the flow of refugees? Of course. We have to work with countries that are safe. It is not our intention that people take dangerous routes and cross the Mediterranean. Thousands died that way last year. What can the German government do to give people less incentive to take that risk? Thomas Oppermann already made some good suggestions - increased foreign aid, for example. Germany gives 0.5 percent of GDP to foreign aid. It will be 0.7 percent soon, and that is already something. Development aid is especially important when you consider how the movement of refugees has been stoked the last few years, for example due to reduced aid to refugee camps in Lebanon. That was also European policy. We have to find legal paths, too. Oppermann has already made immigration policy a talking point, such as migrant work. Elsewhere, there is our cooperation with UNHCR, which opens up the possibility for legal paths for refugees. Send Facebook Twitter Google+ Whatsapp Tumblr linkedin stumble Digg reddit Newsvine Permalink http://dw.com/p/2X346 Is Oppermann's statement, which sounds more like a CDU position than an SPD one, testing the election campaign waters? Domestic security will presumably be an overriding topic. I don't really believe that. Oppermann's comments certainly were not approved, rejected by (SPD chancellor candidate) Martin Schulz's circle, and met with resistance throughout the party. Seeing that this was a one-off comment, I hope it was not an attempt at rebranding on the part of Oppermann at the expense of the SPD, as someone ready to become interior minister in the image of Otto Schily (who served in the position under Gerhard Schr?der from 1998-2005 and was known for his hard-line, law-and-order stance). To reiterate: It was an isolated opinion and not the consensus of the SPD. Aziz Bozkurt is the chairman of the SPD working group on migration and diversity. The interview was conducted by Volker Wagener.\"\n        ],\n        \"semantic_type\": \"\",\n        \"description\": \"\"\n      }\n    }\n  ]\n}"
            }
          },
          "metadata": {},
          "execution_count": 45
        }
      ]
    },
    {
      "cell_type": "markdown",
      "source": [
        "First we want to analyze the data to see what we are working with\n"
      ],
      "metadata": {
        "id": "561PUwUC82BY"
      }
    },
    {
      "cell_type": "code",
      "source": [
        "# We want to analyze the number of articles per year:\n",
        "print(\"Number of Articles Published Per Year:\")\n",
        "print(df.groupby(df[\"publish_date\"].dt.year).size())\n",
        "\n",
        "# We will count all the words in each of the articles adn plot them to visually see the trands\n",
        "df[\"nb_words\"] = df[\"spacy_doc\"].apply(len)\n",
        "print(\"Number of Words Per Article:\")\n",
        "_ = df['nb_words'].hist(bins=100, figsize=(9, 9))"
      ],
      "metadata": {
        "colab": {
          "base_uri": "https://localhost:8080/",
          "height": 857
        },
        "id": "SsoSDRux8xTc",
        "outputId": "73c5dc09-d596-4b1e-f73c-1046a5fb143a"
      },
      "execution_count": 46,
      "outputs": [
        {
          "output_type": "stream",
          "name": "stdout",
          "text": [
            "Number of Articles Published Per Year:\n",
            "publish_date\n",
            "2016     131\n",
            "2017    3660\n",
            "dtype: int64\n",
            "Number of Words Per Article:\n"
          ]
        },
        {
          "output_type": "display_data",
          "data": {
            "text/plain": [
              "<Figure size 900x900 with 1 Axes>"
            ],
            "image/png": "[encoded data removed]"
          },
          "metadata": {}
        }
      ]
    },
    {
      "cell_type": "markdown",
      "source": [
        "# Text Mining\n",
        "In this section, we apply the concept of Text Mining, a key technique in Natural Language Processing (NLP), to analyze the textual data from newsletters. The primary goal is to identify and categorize each word in the text according to its grammatical role, such as nouns, verbs, pronouns, and other parts of speech (POS). This enables a deeper understanding of the linguistic structure and thematic focus of the text.\n",
        "\n",
        "To achieve this, we utilize SpaCy, a widely used NLP library, known for its efficiency and accuracy in text processing tasks. SpaCy provides built-in capabilities for lemmatization and POS tagging, which form the core of this analysis.\n",
        "\n",
        "1.   **Lemmatization:** SpaCy’s lemmatizer is employed to convert each wordinto its base or dictionary form, known as its lemma. This process normalizes the text by reducing variations such as plural forms and verb inflections to their root forms. For instance, \"running\" is lemmatized to \"run,\" and \"dogs\" is lemmatized to \"dog.\" The lemmatization step ensures that different forms of the same word are treated as a single entity, thereby simplifying the analysis. The lemmas are standardized to lowercase to maintain consistency.\n",
        "2.  **POS Tagging:** Using SpaCy’s linguistic models, each word is assigned a POS tag that specifies its grammatical function, such as noun, verb, pronoun, adjective, etc. This tagging is context-sensitive, allowing SpaCy to accurately determine the role of a word even when its usage varies depending on the sentence.\n",
        "\n",
        "The output of this analysis, consisting of lemmas and their corresponding POS tags, is organized into a structured data frame. This makes it easier to conduct further analysis, such as filtering and aggregating specific grammatical categories.\n",
        "\n",
        "3.   **Frequency Analysis:** Once the text has been lemmatized and tagged, we analyze the frequency of specific parts of speech. Using SpaCy’s tokenization and attribute-based querying capabilities, we extract the top five most frequent nouns, verbs, and pronouns across the dataset. This provides insights into the dominant themes and actions described in the text, as well as the most commonly referenced entities.\n",
        "\n",
        "\n",
        "\n",
        "\n"
      ],
      "metadata": {
        "id": "5yrFJK27GFo7"
      }
    },
    {
      "cell_type": "code",
      "source": [
        "from collections import defaultdict, Counter\n",
        "\n",
        "pos = []\n",
        "\n",
        "for doc in df[\"spacy_doc\"]:\n",
        "    for token in doc:\n",
        "        pos.append({\"pos\": token.pos_, \"lemma\": token.lemma_.lower()})\n",
        "\n",
        "pos_df = pd.DataFrame(pos)\n",
        "print(pos_df.shape)\n",
        "print(pos_df.head())\n",
        "print(pos_df[\"pos\"].value_counts())\n"
      ],
      "metadata": {
        "colab": {
          "base_uri": "https://localhost:8080/"
        },
        "id": "ZjiS6Yr5Fli-",
        "outputId": "6fc636a2-e68b-4a24-f017-f34b751be14f"
      },
      "execution_count": 47,
      "outputs": [
        {
          "output_type": "stream",
          "name": "stdout",
          "text": [
            "(2393052, 2)\n",
            "     pos        lemma\n",
            "0  PROPN     michigan\n",
            "1   NOUN  billionaire\n",
            "2   NOUN    education\n",
            "3   NOUN     activist\n",
            "4  PROPN        betsy\n",
            "pos\n",
            "NOUN     443415\n",
            "PUNCT    290784\n",
            "VERB     257371\n",
            "ADP      253286\n",
            "PROPN    249005\n",
            "DET      201842\n",
            "ADJ      158922\n",
            "PRON     126640\n",
            "AUX      115367\n",
            "ADV       73154\n",
            "PART      68039\n",
            "CCONJ     62581\n",
            "NUM       44236\n",
            "SCONJ     39756\n",
            "SYM        3049\n",
            "SPACE      2869\n",
            "X          1837\n",
            "INTJ        899\n",
            "Name: count, dtype: int64\n"
          ]
        }
      ]
    },
    {
      "cell_type": "code",
      "source": [
        "### Here we are lookign at the top 5 Nouns, Verbs and Pronouns\n",
        "print(\"Top 5 Nouns\")\n",
        "print(pos_df[pos_df[\"pos\"] == \"NOUN\"][\"lemma\"].value_counts().head(5))\n",
        "print(\"Top 5 Verbs\")\n",
        "print(pos_df[pos_df[\"pos\"] == \"VERB\"][\"lemma\"].value_counts().head(5))\n",
        "print(\"Top 5 Pronouns\")\n",
        "print(pos_df[pos_df[\"pos\"] == \"PRON\"][\"lemma\"].value_counts().head(5))"
      ],
      "metadata": {
        "colab": {
          "base_uri": "https://localhost:8080/"
        },
        "id": "Po0n7v7IFJVS",
        "outputId": "3e9aceac-9f01-4faa-b6b4-4a22a31f312f"
      },
      "execution_count": 48,
      "outputs": [
        {
          "output_type": "stream",
          "name": "stdout",
          "text": [
            "Top 5 Nouns\n",
            "lemma\n",
            "year          6373\n",
            "people        4709\n",
            "country       3997\n",
            "time          3217\n",
            "government    3138\n",
            "Name: count, dtype: int64\n",
            "Top 5 Verbs\n",
            "lemma\n",
            "say     19393\n",
            "have     6955\n",
            "make     4142\n",
            "take     3499\n",
            "tell     3167\n",
            "Name: count, dtype: int64\n",
            "Top 5 Pronouns\n",
            "lemma\n",
            "it      14704\n",
            "he      14338\n",
            "they     8940\n",
            "that     8841\n",
            "we       8250\n",
            "Name: count, dtype: int64\n"
          ]
        }
      ]
    },
    {
      "cell_type": "code",
      "source": [
        "### Here we will take the top three verbs and see what different pos tags were they given\n",
        "print('say')\n",
        "print(pos_df[pos_df[\"lemma\"] == \"say\"][\"pos\"].value_counts())\n",
        "print('have')\n",
        "print(pos_df[pos_df[\"lemma\"] == \"have\"][\"pos\"].value_counts())\n",
        "print('make')\n",
        "print(pos_df[pos_df[\"lemma\"] == \"make\"][\"pos\"].value_counts())\n",
        "\n"
      ],
      "metadata": {
        "colab": {
          "base_uri": "https://localhost:8080/"
        },
        "id": "kaxM9tLuFrYL",
        "outputId": "09f619dd-7c93-4b44-958d-26e5fdd96cf4"
      },
      "execution_count": 49,
      "outputs": [
        {
          "output_type": "stream",
          "name": "stdout",
          "text": [
            "say\n",
            "pos\n",
            "VERB     19393\n",
            "NOUN        24\n",
            "INTJ        10\n",
            "PROPN        4\n",
            "Name: count, dtype: int64\n",
            "have\n",
            "pos\n",
            "AUX     18963\n",
            "VERB     6955\n",
            "NOUN        1\n",
            "Name: count, dtype: int64\n",
            "make\n",
            "pos\n",
            "VERB     4142\n",
            "NOUN        9\n",
            "PROPN       3\n",
            "Name: count, dtype: int64\n"
          ]
        }
      ]
    },
    {
      "cell_type": "markdown",
      "source": [
        "In this stage of the analysis, we focus on pronouns and their relationship with verbs. Using SpaCy’s POS tagging and dependency parsing, we extract tokens that meet the following criteria:\n",
        "\n",
        "\n",
        "1.   The token's POS tag is 'PRON' (pronoun).\n",
        "2.   The lemma of the token matches one of the subject pronouns: [\"I\", \"you\", \"he\", \"she\", \"we\", \"they\"]\n",
        "3.   The pronoun functions as the subject of a verb, identified through SpaCy’s syntactic dependency parser (e.g., dependency type 'nsubj').\n",
        "\n"
      ],
      "metadata": {
        "id": "XR7kBvBGNLoa"
      }
    },
    {
      "cell_type": "code",
      "source": [
        "subj = []\n",
        "\n",
        "for doc in df[\"spacy_doc\"]:\n",
        "    for token in doc:\n",
        "        if token.pos_ == \"PRON\" and token.text.lower() in {\"i\", \"you\", \"he\", \"she\", \"we\", \"you\", \"they\"} and token.dep_ == \"nsubj\" and token.head.pos_ == \"VERB\":\n",
        "            subj.append({\"pronoun\": token.text.lower(), \"verb\": token.head.lemma_.lower()})\n",
        "\n",
        "subj_df = pd.DataFrame(subj)\n",
        "print(subj_df.shape)\n",
        "print(subj_df.head())\n",
        "print(subj_df[\"pronoun\"].value_counts())\n",
        "print(subj_df[\"verb\"].value_counts())\n",
        "\n"
      ],
      "metadata": {
        "colab": {
          "base_uri": "https://localhost:8080/"
        },
        "id": "t2r6gfP5NVbT",
        "outputId": "a3ac899f-32b8-4686-f1ce-bc35415b73e5"
      },
      "execution_count": 50,
      "outputs": [
        {
          "output_type": "stream",
          "name": "stdout",
          "text": [
            "(33256, 2)\n",
            "  pronoun        verb\n",
            "0     she        read\n",
            "1     she      attend\n",
            "2     she       hedge\n",
            "3    they     support\n",
            "4     she  appreciate\n",
            "pronoun\n",
            "he      10365\n",
            "we       6205\n",
            "i        5635\n",
            "they     5072\n",
            "she      3125\n",
            "you      2854\n",
            "Name: count, dtype: int64\n",
            "verb\n",
            "say               3790\n",
            "have              2444\n",
            "think             1173\n",
            "want              1149\n",
            "know               814\n",
            "                  ... \n",
            "fry                  1\n",
            "scope                1\n",
            "overhear             1\n",
            "hungry?\"?after       1\n",
            "instance             1\n",
            "Name: count, Length: 1583, dtype: int64\n"
          ]
        }
      ]
    },
    {
      "cell_type": "code",
      "source": [
        "grps = subj_df.groupby([\"pronoun\", \"verb\"]).size().reset_index(name=\"count\").sort_values(by=[\"pronoun\", \"count\"], ascending=[True, False])\n",
        "print(grps.groupby(\"pronoun\").head(5).set_index([\"pronoun\", \"verb\"]))"
      ],
      "metadata": {
        "colab": {
          "base_uri": "https://localhost:8080/"
        },
        "id": "aLfYExuVOyrz",
        "outputId": "045a6bec-9157-43c3-9aa8-90f102d8c81a"
      },
      "execution_count": 51,
      "outputs": [
        {
          "output_type": "stream",
          "name": "stdout",
          "text": [
            "               count\n",
            "pronoun verb        \n",
            "he      say     2543\n",
            "        have     396\n",
            "        add      392\n",
            "        tell     281\n",
            "        want     169\n",
            "i       think    828\n",
            "        have     362\n",
            "        know     275\n",
            "        want     258\n",
            "        see      182\n",
            "she     say      788\n",
            "        have     123\n",
            "        tell     111\n",
            "        add       96\n",
            "        want      59\n",
            "they    have     368\n",
            "        say      182\n",
            "        want     174\n",
            "        do       139\n",
            "        get      114\n",
            "we      have     783\n",
            "        see      266\n",
            "        want     253\n",
            "        need     244\n",
            "        do       216\n",
            "you     have     412\n",
            "        want     236\n",
            "        know     169\n",
            "        see      121\n",
            "        need     115\n"
          ]
        }
      ]
    }
  ]
}